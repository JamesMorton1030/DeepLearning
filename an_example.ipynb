{
 "cells": [
  {
   "cell_type": "markdown",
   "metadata": {},
   "source": [
    "This example is used to explore data pre-processing techniques."
   ]
  },
  {
   "cell_type": "code",
   "execution_count": 6,
   "metadata": {},
   "outputs": [],
   "source": [
    "import numpy as np\n",
    "\n",
    "import tensorflow_datasets as tfds\n",
    "import tensorflow as tf\n",
    "\n",
    "tfds.disable_progress_bar()"
   ]
  },
  {
   "cell_type": "code",
   "execution_count": 7,
   "metadata": {},
   "outputs": [
    {
     "data": {
      "text/plain": [
       "(TensorSpec(shape=(), dtype=tf.string, name=None),\n",
       " TensorSpec(shape=(), dtype=tf.int64, name=None))"
      ]
     },
     "execution_count": 7,
     "metadata": {},
     "output_type": "execute_result"
    }
   ],
   "source": [
    "dataset, info = tfds.load('imdb_reviews', with_info=True,\n",
    "                          as_supervised=True)\n",
    "train_dataset, test_dataset = dataset['train'], dataset['test']\n",
    "\n",
    "train_dataset.element_spec\n"
   ]
  },
  {
   "cell_type": "code",
   "execution_count": 8,
   "metadata": {},
   "outputs": [
    {
     "name": "stdout",
     "output_type": "stream",
     "text": [
      "text:  b\"This was an absolutely terrible movie. Don't be lured in by Christopher Walken or Michael Ironside. Both are great actors, but this must simply be their worst role in history. Even their great acting could not redeem this movie's ridiculous storyline. This movie is an early nineties US propaganda piece. The most pathetic scenes were those when the Columbian rebels were making their cases for revolutions. Maria Conchita Alonso appeared phony, and her pseudo-love affair with Walken was nothing but a pathetic emotional plug in a movie that was devoid of any real meaning. I am disappointed that there are movies like this, ruining actor's like Christopher Walken's good name. I could barely sit through it.\"\n",
      "label:  0\n"
     ]
    }
   ],
   "source": [
    "for example, label in train_dataset.take(1):\n",
    "  print('text: ', example.numpy())\n",
    "  print('label: ', label.numpy())"
   ]
  },
  {
   "cell_type": "code",
   "execution_count": 9,
   "metadata": {},
   "outputs": [],
   "source": [
    "BUFFER_SIZE = 10000\n",
    "BATCH_SIZE = 64\n",
    "\n",
    "train_dataset = train_dataset.shuffle(BUFFER_SIZE).batch(BATCH_SIZE).prefetch(tf.data.AUTOTUNE)\n",
    "test_dataset = test_dataset.batch(BATCH_SIZE).prefetch(tf.data.AUTOTUNE)"
   ]
  },
  {
   "cell_type": "code",
   "execution_count": 10,
   "metadata": {},
   "outputs": [
    {
     "name": "stdout",
     "output_type": "stream",
     "text": [
      "texts:  [b'\\'P\\' (or Club-P) should really be called \\'L\\' for lame. Every festival has a disappointment and this is the one that fails to live up to its much-hyped logline: \"Thai lesbians fighting monsters.\" Rather, this is the tale of a Khmer country girl who\\'s grandmother has taught her a little witchcraft along with a few odd (but specific) rules: \"don\\'t walk under a clothesline,\" \"don\\'t eat raw meat,\" and \"don\\'t accept money for your powers.\" Well, guess what folks, the girl moves to Bangkok to raise some money as a \\'bar-girl\\' and manages to break all the rules granny taught her which subsequently releases an evil spirit that conveniently kills the \\'foreign johns\\' who pay for her services.<br /><br />While this film can\\'t even be released in Thailand due to it\\'s controversial subject matter most American audiences will find this ho-hum horror pic a cross between \"Showgirls\" and \"Interview with the Vampire\" as directed by Walt Disney.<br /><br />If not for a few scenes with significant amounts of blood the MPAA could probably rate this for pre-teens only. There is literally broadcast TV adult fare, although you\\'d expect at least a sex scene considering the fact that the film is about a brothel and one of the actresses is a Thai porn star in real life.<br /><br />As for the \\'lesbian\\' angle, there\\'s one brief smooch and a couple of \"I love you\\'s\" to prove that the two main stars really are a couple (on brother). And the P-bar has got to be the only exotic dance club on the planet where the girls keep their sarongs on and do carnival stunts (there\\'s a swordsman who cuts cucumbers out of a girl\\'s mouth ... ooh, phallic imagery).<br /><br />NO nudity, NO real monster (unless you count a five foot high Thai spirit with yellow eyes), and no way any ADULT should ever pay to see this kind of stupidity except on DVD. You\\'ve been warned!'\n",
      " b'The first episode immediately gave a good impression what to expect from the series! Mysteries waiting to be solved and a lot of good drama! I love the fact that they gradually reveal the stories concerning the characters! Explaining just enough to stay excited! Of course this show has some flaws! In the first two series there are some characters who for some reason don\\'t show up in the third season! Many of the characters have a decent sent off but some of them just aren\\'t there! Like Rose and her husband! Where the hell are they? What happened to them? Maybe they will return in later episodes! But it is a little inconsistent! That being said \"Lost\" manages to be thrilling every episode(especially the first two seasons)! That is a very hard thing to do! I do notice that in the third season the focus is more on character development than the mystery aspects of the show! This is not a bad thing! It even saves some episodes from getting boring! One of the elements that can be considered the strength of this show are the wonderful characters! You will grow to love these characters! Good or bad! But eventually I will want to see some mysteries to be solved and get closure! The danger of \"Lost\" getting canceled due to declining ratings is near! And that would be devastating!'\n",
      " b'This is the worst movie I have ever seen. I was going to get up and leave at Tape 4 but I stuck it out. I now consider myself a Masochist! Afghanistan? Come on guys! Who\\'s the idiot who forgot to hide the Sanskrit billboards? I thought the lead actor(George Calil) was particularly inept. Apart from the bad acting and over zealous camera shake, I thought using the events of 9/11 as a reason to make \"Larson the Lunatic Implodes, all over a screen near you\" disgraceful and irreverent to the victims of 9/11. Using a phone call from Larson\\'s wife, Sarah, supposedly from one of the terrorist held planes on that day, was appalling. The camera shake didn\\'t make me feel sick, that cold hearted stunt did.']\n",
      "\n",
      "labels:  [0 1 0]\n"
     ]
    }
   ],
   "source": [
    "for example, label in train_dataset.take(1):\n",
    "  print('texts: ', example.numpy()[:3])\n",
    "  print()\n",
    "  print('labels: ', label.numpy()[:3])"
   ]
  },
  {
   "cell_type": "code",
   "execution_count": 11,
   "metadata": {},
   "outputs": [],
   "source": [
    "VOCAB_SIZE = 1000\n",
    "encoder = tf.keras.layers.TextVectorization(\n",
    "    max_tokens=VOCAB_SIZE)\n",
    "encoder.adapt(train_dataset.map(lambda text, label: text))"
   ]
  },
  {
   "cell_type": "code",
   "execution_count": 12,
   "metadata": {},
   "outputs": [
    {
     "data": {
      "text/plain": [
       "array(['', '[UNK]', 'the', 'and', 'a', 'of', 'to', 'is', 'in', 'it', 'i',\n",
       "       'this', 'that', 'br', 'was', 'as', 'for', 'with', 'movie', 'but'],\n",
       "      dtype='<U14')"
      ]
     },
     "execution_count": 12,
     "metadata": {},
     "output_type": "execute_result"
    }
   ],
   "source": [
    "vocab = np.array(encoder.get_vocabulary())\n",
    "vocab[:20]"
   ]
  },
  {
   "cell_type": "code",
   "execution_count": 13,
   "metadata": {},
   "outputs": [
    {
     "data": {
      "text/plain": [
       "array([[  1,  42,   1, ...,   0,   0,   0],\n",
       "       [  2,  86, 383, ...,   0,   0,   0],\n",
       "       [ 11,   7,   2, ...,   0,   0,   0]])"
      ]
     },
     "execution_count": 13,
     "metadata": {},
     "output_type": "execute_result"
    }
   ],
   "source": [
    "encoded_example = encoder(example)[:3].numpy()\n",
    "encoded_example"
   ]
  },
  {
   "cell_type": "code",
   "execution_count": 14,
   "metadata": {},
   "outputs": [
    {
     "name": "stdout",
     "output_type": "stream",
     "text": [
      "Original:  b'\\'P\\' (or Club-P) should really be called \\'L\\' for lame. Every festival has a disappointment and this is the one that fails to live up to its much-hyped logline: \"Thai lesbians fighting monsters.\" Rather, this is the tale of a Khmer country girl who\\'s grandmother has taught her a little witchcraft along with a few odd (but specific) rules: \"don\\'t walk under a clothesline,\" \"don\\'t eat raw meat,\" and \"don\\'t accept money for your powers.\" Well, guess what folks, the girl moves to Bangkok to raise some money as a \\'bar-girl\\' and manages to break all the rules granny taught her which subsequently releases an evil spirit that conveniently kills the \\'foreign johns\\' who pay for her services.<br /><br />While this film can\\'t even be released in Thailand due to it\\'s controversial subject matter most American audiences will find this ho-hum horror pic a cross between \"Showgirls\" and \"Interview with the Vampire\" as directed by Walt Disney.<br /><br />If not for a few scenes with significant amounts of blood the MPAA could probably rate this for pre-teens only. There is literally broadcast TV adult fare, although you\\'d expect at least a sex scene considering the fact that the film is about a brothel and one of the actresses is a Thai porn star in real life.<br /><br />As for the \\'lesbian\\' angle, there\\'s one brief smooch and a couple of \"I love you\\'s\" to prove that the two main stars really are a couple (on brother). And the P-bar has got to be the only exotic dance club on the planet where the girls keep their sarongs on and do carnival stunts (there\\'s a swordsman who cuts cucumbers out of a girl\\'s mouth ... ooh, phallic imagery).<br /><br />NO nudity, NO real monster (unless you count a five foot high Thai spirit with yellow eyes), and no way any ADULT should ever pay to see this kind of stupidity except on DVD. You\\'ve been warned!'\n",
      "Round-trip:  [UNK] or [UNK] should really be called [UNK] for lame every [UNK] has a [UNK] and this is the one that fails to live up to its [UNK] [UNK] [UNK] [UNK] fighting [UNK] rather this is the tale of a [UNK] country girl whos [UNK] has [UNK] her a little [UNK] along with a few [UNK] but [UNK] [UNK] dont [UNK] under a [UNK] dont [UNK] [UNK] [UNK] and dont [UNK] money for your [UNK] well guess what [UNK] the girl [UNK] to [UNK] to [UNK] some money as a [UNK] and manages to [UNK] all the [UNK] [UNK] [UNK] her which [UNK] [UNK] an evil [UNK] that [UNK] [UNK] the [UNK] [UNK] who pay for her [UNK] br while this film cant even be released in [UNK] due to its [UNK] subject matter most american [UNK] will find this [UNK] horror [UNK] a [UNK] between [UNK] and [UNK] with the [UNK] as directed by [UNK] [UNK] br if not for a few scenes with [UNK] [UNK] of blood the [UNK] could probably [UNK] this for [UNK] only there is [UNK] [UNK] tv [UNK] [UNK] although [UNK] expect at least a sex scene [UNK] the fact that the film is about a [UNK] and one of the [UNK] is a [UNK] [UNK] star in real [UNK] br as for the [UNK] [UNK] theres one [UNK] [UNK] and a couple of i love [UNK] to [UNK] that the two main stars really are a couple on brother and the [UNK] has got to be the only [UNK] dance [UNK] on the [UNK] where the girls keep their [UNK] on and do [UNK] [UNK] theres a [UNK] who [UNK] [UNK] out of a girls [UNK] [UNK] [UNK] [UNK] br no [UNK] no real monster unless you [UNK] a five [UNK] high [UNK] [UNK] with [UNK] eyes and no way any [UNK] should ever pay to see this kind of [UNK] except on dvd youve been [UNK]                                                                                                                                                                                                                                                                                                                                                                                                                                                                                                                                                                                                                                              \n",
      "\n",
      "Original:  b'The first episode immediately gave a good impression what to expect from the series! Mysteries waiting to be solved and a lot of good drama! I love the fact that they gradually reveal the stories concerning the characters! Explaining just enough to stay excited! Of course this show has some flaws! In the first two series there are some characters who for some reason don\\'t show up in the third season! Many of the characters have a decent sent off but some of them just aren\\'t there! Like Rose and her husband! Where the hell are they? What happened to them? Maybe they will return in later episodes! But it is a little inconsistent! That being said \"Lost\" manages to be thrilling every episode(especially the first two seasons)! That is a very hard thing to do! I do notice that in the third season the focus is more on character development than the mystery aspects of the show! This is not a bad thing! It even saves some episodes from getting boring! One of the elements that can be considered the strength of this show are the wonderful characters! You will grow to love these characters! Good or bad! But eventually I will want to see some mysteries to be solved and get closure! The danger of \"Lost\" getting canceled due to declining ratings is near! And that would be devastating!'\n",
      "Round-trip:  the first episode [UNK] gave a good [UNK] what to expect from the series [UNK] [UNK] to be [UNK] and a lot of good drama i love the fact that they [UNK] [UNK] the stories [UNK] the characters [UNK] just enough to stay [UNK] of course this show has some [UNK] in the first two series there are some characters who for some reason dont show up in the third season many of the characters have a decent [UNK] off but some of them just arent there like [UNK] and her husband where the hell are they what happened to them maybe they will return in later episodes but it is a little [UNK] that being said lost manages to be [UNK] every [UNK] the first two [UNK] that is a very hard thing to do i do [UNK] that in the third season the [UNK] is more on character development than the mystery [UNK] of the show this is not a bad thing it even [UNK] some episodes from getting boring one of the elements that can be [UNK] the [UNK] of this show are the wonderful characters you will [UNK] to love these characters good or bad but eventually i will want to see some [UNK] to be [UNK] and get [UNK] the [UNK] of lost getting [UNK] due to [UNK] [UNK] is near and that would be [UNK]                                                                                                                                                                                                                                                                                                                                                                                                                                                                                                                                                                                                                                                                                                                                           \n",
      "\n",
      "Original:  b'This is the worst movie I have ever seen. I was going to get up and leave at Tape 4 but I stuck it out. I now consider myself a Masochist! Afghanistan? Come on guys! Who\\'s the idiot who forgot to hide the Sanskrit billboards? I thought the lead actor(George Calil) was particularly inept. Apart from the bad acting and over zealous camera shake, I thought using the events of 9/11 as a reason to make \"Larson the Lunatic Implodes, all over a screen near you\" disgraceful and irreverent to the victims of 9/11. Using a phone call from Larson\\'s wife, Sarah, supposedly from one of the terrorist held planes on that day, was appalling. The camera shake didn\\'t make me feel sick, that cold hearted stunt did.'\n",
      "Round-trip:  this is the worst movie i have ever seen i was going to get up and leave at [UNK] 4 but i [UNK] it out i now [UNK] myself a [UNK] [UNK] come on guys whos the [UNK] who [UNK] to [UNK] the [UNK] [UNK] i thought the lead [UNK] [UNK] was particularly [UNK] apart from the bad acting and over [UNK] camera [UNK] i thought using the events of [UNK] as a reason to make [UNK] the [UNK] [UNK] all over a screen near you [UNK] and [UNK] to the [UNK] of [UNK] using a [UNK] call from [UNK] wife [UNK] [UNK] from one of the [UNK] [UNK] [UNK] on that day was [UNK] the camera [UNK] didnt make me feel [UNK] that [UNK] [UNK] [UNK] did                                                                                                                                                                                                                                                                                                                                                                                                                                                                                                                                                                                                                                                                                                                                                                                                                                                  \n",
      "\n"
     ]
    }
   ],
   "source": [
    "for n in range(3):\n",
    "  print(\"Original: \", example[n].numpy())\n",
    "  print(\"Round-trip: \", \" \".join(vocab[encoded_example[n]]))\n",
    "  print()"
   ]
  },
  {
   "cell_type": "code",
   "execution_count": 15,
   "metadata": {},
   "outputs": [],
   "source": [
    "model = tf.keras.Sequential([\n",
    "    encoder,\n",
    "    tf.keras.layers.Embedding(\n",
    "        input_dim=len(encoder.get_vocabulary()),\n",
    "        output_dim=64,\n",
    "        # Use masking to handle the variable sequence lengths\n",
    "        mask_zero=True),\n",
    "    tf.keras.layers.Bidirectional(tf.keras.layers.LSTM(64)),\n",
    "    tf.keras.layers.Dense(64, activation='relu'),\n",
    "    tf.keras.layers.Dense(1)\n",
    "])"
   ]
  },
  {
   "cell_type": "code",
   "execution_count": 16,
   "metadata": {},
   "outputs": [
    {
     "name": "stdout",
     "output_type": "stream",
     "text": [
      "[False, True, True, True, True]\n"
     ]
    }
   ],
   "source": [
    "print([layer.supports_masking for layer in model.layers])"
   ]
  },
  {
   "cell_type": "code",
   "execution_count": 23,
   "metadata": {},
   "outputs": [
    {
     "ename": "ValueError",
     "evalue": "Invalid dtype: str544",
     "output_type": "error",
     "traceback": [
      "\u001b[1;31m---------------------------------------------------------------------------\u001b[0m",
      "\u001b[1;31mValueError\u001b[0m                                Traceback (most recent call last)",
      "Cell \u001b[1;32mIn[23], line 4\u001b[0m\n\u001b[0;32m      1\u001b[0m \u001b[38;5;66;03m# predict on a sample text without padding.\u001b[39;00m\n\u001b[0;32m      3\u001b[0m sample_text \u001b[38;5;241m=\u001b[39m (\u001b[38;5;124m\"\u001b[39m\u001b[38;5;124mI loved the movie\u001b[39m\u001b[38;5;124m\"\u001b[39m)\n\u001b[1;32m----> 4\u001b[0m predictions \u001b[38;5;241m=\u001b[39m \u001b[43mmodel\u001b[49m\u001b[38;5;241;43m.\u001b[39;49m\u001b[43mpredict\u001b[49m\u001b[43m(\u001b[49m\u001b[43mnp\u001b[49m\u001b[38;5;241;43m.\u001b[39;49m\u001b[43marray\u001b[49m\u001b[43m(\u001b[49m\u001b[43m[\u001b[49m\u001b[43msample_text\u001b[49m\u001b[43m]\u001b[49m\u001b[43m)\u001b[49m\u001b[43m)\u001b[49m\n\u001b[0;32m      5\u001b[0m \u001b[38;5;28mprint\u001b[39m(predictions[\u001b[38;5;241m0\u001b[39m])\n",
      "File \u001b[1;32mc:\\Users\\James\\Nextcloud2\\Coding\\DeepLearning\\.venv\\lib\\site-packages\\keras\\src\\utils\\traceback_utils.py:122\u001b[0m, in \u001b[0;36mfilter_traceback.<locals>.error_handler\u001b[1;34m(*args, **kwargs)\u001b[0m\n\u001b[0;32m    119\u001b[0m     filtered_tb \u001b[38;5;241m=\u001b[39m _process_traceback_frames(e\u001b[38;5;241m.\u001b[39m__traceback__)\n\u001b[0;32m    120\u001b[0m     \u001b[38;5;66;03m# To get the full stack trace, call:\u001b[39;00m\n\u001b[0;32m    121\u001b[0m     \u001b[38;5;66;03m# `keras.config.disable_traceback_filtering()`\u001b[39;00m\n\u001b[1;32m--> 122\u001b[0m     \u001b[38;5;28;01mraise\u001b[39;00m e\u001b[38;5;241m.\u001b[39mwith_traceback(filtered_tb) \u001b[38;5;28;01mfrom\u001b[39;00m\u001b[38;5;250m \u001b[39m\u001b[38;5;28;01mNone\u001b[39;00m\n\u001b[0;32m    123\u001b[0m \u001b[38;5;28;01mfinally\u001b[39;00m:\n\u001b[0;32m    124\u001b[0m     \u001b[38;5;28;01mdel\u001b[39;00m filtered_tb\n",
      "File \u001b[1;32mc:\\Users\\James\\Nextcloud2\\Coding\\DeepLearning\\.venv\\lib\\site-packages\\optree\\ops.py:752\u001b[0m, in \u001b[0;36mtree_map\u001b[1;34m(func, tree, is_leaf, none_is_leaf, namespace, *rests)\u001b[0m\n\u001b[0;32m    750\u001b[0m leaves, treespec \u001b[38;5;241m=\u001b[39m _C\u001b[38;5;241m.\u001b[39mflatten(tree, is_leaf, none_is_leaf, namespace)\n\u001b[0;32m    751\u001b[0m flat_args \u001b[38;5;241m=\u001b[39m [leaves] \u001b[38;5;241m+\u001b[39m [treespec\u001b[38;5;241m.\u001b[39mflatten_up_to(r) \u001b[38;5;28;01mfor\u001b[39;00m r \u001b[38;5;129;01min\u001b[39;00m rests]\n\u001b[1;32m--> 752\u001b[0m \u001b[38;5;28;01mreturn\u001b[39;00m \u001b[43mtreespec\u001b[49m\u001b[38;5;241;43m.\u001b[39;49m\u001b[43munflatten\u001b[49m\u001b[43m(\u001b[49m\u001b[38;5;28;43mmap\u001b[39;49m\u001b[43m(\u001b[49m\u001b[43mfunc\u001b[49m\u001b[43m,\u001b[49m\u001b[43m \u001b[49m\u001b[38;5;241;43m*\u001b[39;49m\u001b[43mflat_args\u001b[49m\u001b[43m)\u001b[49m\u001b[43m)\u001b[49m\n",
      "\u001b[1;31mValueError\u001b[0m: Invalid dtype: str544"
     ]
    }
   ],
   "source": [
    "# predict on a sample text without padding.\n",
    "\n",
    "sample_text = (\"I loved the movie\")\n",
    "predictions = model.predict(np.array([sample_text]))\n",
    "print(predictions[0])"
   ]
  },
  {
   "cell_type": "code",
   "execution_count": 24,
   "metadata": {},
   "outputs": [
    {
     "ename": "ValueError",
     "evalue": "Invalid dtype: str256000",
     "output_type": "error",
     "traceback": [
      "\u001b[1;31m---------------------------------------------------------------------------\u001b[0m",
      "\u001b[1;31mValueError\u001b[0m                                Traceback (most recent call last)",
      "Cell \u001b[1;32mIn[24], line 4\u001b[0m\n\u001b[0;32m      1\u001b[0m \u001b[38;5;66;03m# predict on a sample text with padding\u001b[39;00m\n\u001b[0;32m      3\u001b[0m padding \u001b[38;5;241m=\u001b[39m \u001b[38;5;124m\"\u001b[39m\u001b[38;5;124mthe \u001b[39m\u001b[38;5;124m\"\u001b[39m \u001b[38;5;241m*\u001b[39m \u001b[38;5;241m2000\u001b[39m\n\u001b[1;32m----> 4\u001b[0m predictions \u001b[38;5;241m=\u001b[39m \u001b[43mmodel\u001b[49m\u001b[38;5;241;43m.\u001b[39;49m\u001b[43mpredict\u001b[49m\u001b[43m(\u001b[49m\u001b[43mnp\u001b[49m\u001b[38;5;241;43m.\u001b[39;49m\u001b[43marray\u001b[49m\u001b[43m(\u001b[49m\u001b[43m[\u001b[49m\u001b[43msample_text\u001b[49m\u001b[43m,\u001b[49m\u001b[43m \u001b[49m\u001b[43mpadding\u001b[49m\u001b[43m]\u001b[49m\u001b[43m)\u001b[49m\u001b[43m)\u001b[49m\n\u001b[0;32m      5\u001b[0m \u001b[38;5;28mprint\u001b[39m(predictions[\u001b[38;5;241m0\u001b[39m])\n",
      "File \u001b[1;32mc:\\Users\\James\\Nextcloud2\\Coding\\DeepLearning\\.venv\\lib\\site-packages\\keras\\src\\utils\\traceback_utils.py:122\u001b[0m, in \u001b[0;36mfilter_traceback.<locals>.error_handler\u001b[1;34m(*args, **kwargs)\u001b[0m\n\u001b[0;32m    119\u001b[0m     filtered_tb \u001b[38;5;241m=\u001b[39m _process_traceback_frames(e\u001b[38;5;241m.\u001b[39m__traceback__)\n\u001b[0;32m    120\u001b[0m     \u001b[38;5;66;03m# To get the full stack trace, call:\u001b[39;00m\n\u001b[0;32m    121\u001b[0m     \u001b[38;5;66;03m# `keras.config.disable_traceback_filtering()`\u001b[39;00m\n\u001b[1;32m--> 122\u001b[0m     \u001b[38;5;28;01mraise\u001b[39;00m e\u001b[38;5;241m.\u001b[39mwith_traceback(filtered_tb) \u001b[38;5;28;01mfrom\u001b[39;00m\u001b[38;5;250m \u001b[39m\u001b[38;5;28;01mNone\u001b[39;00m\n\u001b[0;32m    123\u001b[0m \u001b[38;5;28;01mfinally\u001b[39;00m:\n\u001b[0;32m    124\u001b[0m     \u001b[38;5;28;01mdel\u001b[39;00m filtered_tb\n",
      "File \u001b[1;32mc:\\Users\\James\\Nextcloud2\\Coding\\DeepLearning\\.venv\\lib\\site-packages\\optree\\ops.py:752\u001b[0m, in \u001b[0;36mtree_map\u001b[1;34m(func, tree, is_leaf, none_is_leaf, namespace, *rests)\u001b[0m\n\u001b[0;32m    750\u001b[0m leaves, treespec \u001b[38;5;241m=\u001b[39m _C\u001b[38;5;241m.\u001b[39mflatten(tree, is_leaf, none_is_leaf, namespace)\n\u001b[0;32m    751\u001b[0m flat_args \u001b[38;5;241m=\u001b[39m [leaves] \u001b[38;5;241m+\u001b[39m [treespec\u001b[38;5;241m.\u001b[39mflatten_up_to(r) \u001b[38;5;28;01mfor\u001b[39;00m r \u001b[38;5;129;01min\u001b[39;00m rests]\n\u001b[1;32m--> 752\u001b[0m \u001b[38;5;28;01mreturn\u001b[39;00m \u001b[43mtreespec\u001b[49m\u001b[38;5;241;43m.\u001b[39;49m\u001b[43munflatten\u001b[49m\u001b[43m(\u001b[49m\u001b[38;5;28;43mmap\u001b[39;49m\u001b[43m(\u001b[49m\u001b[43mfunc\u001b[49m\u001b[43m,\u001b[49m\u001b[43m \u001b[49m\u001b[38;5;241;43m*\u001b[39;49m\u001b[43mflat_args\u001b[49m\u001b[43m)\u001b[49m\u001b[43m)\u001b[49m\n",
      "\u001b[1;31mValueError\u001b[0m: Invalid dtype: str256000"
     ]
    }
   ],
   "source": [
    "# predict on a sample text with padding\n",
    "\n",
    "padding = \"the \" * 2000\n",
    "predictions = model.predict(np.array([sample_text, padding]))\n",
    "print(predictions[0])"
   ]
  },
  {
   "cell_type": "code",
   "execution_count": null,
   "metadata": {},
   "outputs": [],
   "source": []
  }
 ],
 "metadata": {
  "kernelspec": {
   "display_name": ".venv",
   "language": "python",
   "name": "python3"
  },
  "language_info": {
   "codemirror_mode": {
    "name": "ipython",
    "version": 3
   },
   "file_extension": ".py",
   "mimetype": "text/x-python",
   "name": "python",
   "nbconvert_exporter": "python",
   "pygments_lexer": "ipython3",
   "version": "3.10.11"
  }
 },
 "nbformat": 4,
 "nbformat_minor": 2
}
